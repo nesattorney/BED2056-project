{
 "metadata": {
  "language_info": {
   "codemirror_mode": {
    "name": "ipython",
    "version": 3
   },
   "file_extension": ".py",
   "mimetype": "text/x-python",
   "name": "python",
   "nbconvert_exporter": "python",
   "pygments_lexer": "ipython3",
   "version": "3.8.2-final"
  },
  "orig_nbformat": 2,
  "kernelspec": {
   "name": "python3",
   "display_name": "Python 3"
  }
 },
 "nbformat": 4,
 "nbformat_minor": 2,
 "cells": [
  {
   "cell_type": "code",
   "execution_count": 18,
   "metadata": {},
   "outputs": [],
   "source": [
    "import matplotlib.pyplot as plt\n",
    "import numpy as np\n",
    "import pandas as pd\n",
    "from us_states_abbrev import *"
   ]
  },
  {
   "cell_type": "code",
   "execution_count": 20,
   "metadata": {},
   "outputs": [],
   "source": [
    "covid_path = \"data/covid/us_states_covid19_daily.csv\"\n",
    "traffic_path = \"data/traffic/US_Accidents_June20.csv\"\n",
    "\n",
    "covid_data = pd.read_csv(covid_path, usecols=['date', 'state', 'positive', 'negative', 'totalTestResults', 'hospitalizedCurrently', 'hospitalizedCumulative', 'death'])\n",
    "traffic_data = pd.read_csv(traffic_path, usecols=['Start_Time', 'State'])"
   ]
  },
  {
   "cell_type": "code",
   "execution_count": 22,
   "metadata": {},
   "outputs": [],
   "source": [
    "#Convert state 2-letter code to full name\n",
    "covid_data['state'] = covid_data['state'].map(abbrev_us_state)\n",
    "traffic_data['State'] = traffic_data['State'].map(abbrev_us_state)"
   ]
  },
  {
   "cell_type": "code",
   "execution_count": 25,
   "metadata": {},
   "outputs": [],
   "source": [
    "covid_unique = covid_data['state'].unique()\n",
    "traffic_unique = traffic_data['State'].unique()\n"
   ]
  },
  {
   "cell_type": "code",
   "execution_count": 27,
   "metadata": {},
   "outputs": [],
   "source": [
    "#Discovers the states that are included in the Covid dataset but not the traffic dataset\n",
    "contains = False\n",
    "difference = []\n",
    "for covid_state in covid_unique:\n",
    "    for traffic_state in traffic_unique:\n",
    "        if covid_state == traffic_state:\n",
    "            contains = True\n",
    "    if(contains == False):\n",
    "        difference.append(covid_state)\n",
    "    contains = False\n",
    "\n"
   ]
  }
 ]
}