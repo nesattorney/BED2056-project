{
 "metadata": {
  "language_info": {
   "codemirror_mode": {
    "name": "ipython",
    "version": 3
   },
   "file_extension": ".py",
   "mimetype": "text/x-python",
   "name": "python",
   "nbconvert_exporter": "python",
   "pygments_lexer": "ipython3",
   "version": "3.9.0-final"
  },
  "orig_nbformat": 2,
  "kernelspec": {
   "name": "python3",
   "display_name": "Python 3.9.0 64-bit",
   "metadata": {
    "interpreter": {
     "hash": "7812ea015bdcee6f23a998adcdd2ef97c151c0c241b7b7070987d9313e41299d"
    }
   }
  }
 },
 "nbformat": 4,
 "nbformat_minor": 2,
 "cells": [
  {
   "cell_type": "code",
   "execution_count": 71,
   "metadata": {},
   "outputs": [],
   "source": [
    "import matplotlib.pyplot as plt\n",
    "import numpy as np\n",
    "import pandas as pd\n",
    "from us_states_abbrev import *"
   ]
  },
  {
   "cell_type": "code",
   "execution_count": 72,
   "metadata": {},
   "outputs": [],
   "source": [
    "covid_path = \"data/covid/us_states_covid19_daily.csv\"\n",
    "covid_all_path = \"data/covid/us_covid19_daily.csv\"\n",
    "traffic_path = \"data/traffic/US_Accidents_June20.csv\"\n",
    "\n",
    "covid_data = pd.read_csv(covid_path, usecols=['date', 'state', 'positive', 'negative', 'totalTestResults', 'hospitalizedCurrently', 'hospitalizedCumulative', 'death'])\n",
    "covid_all_data = pd.read_csv(covid_all_path, usecols=['date', 'positive'])\n",
    "traffic_data = pd.read_csv(traffic_path, usecols=['Start_Time', 'State'])\n",
    "traffic_data = traffic_data.rename(columns={'State': 'state'})"
   ]
  },
  {
   "cell_type": "code",
   "execution_count": 73,
   "metadata": {},
   "outputs": [],
   "source": [
    "#Convert state 2-letter code to full name\n",
    "covid_data['state'] = covid_data['state'].map(abbrev_us_state)\n",
    "traffic_data['state'] = traffic_data['state'].map(abbrev_us_state)"
   ]
  },
  {
   "cell_type": "code",
   "execution_count": 74,
   "metadata": {},
   "outputs": [],
   "source": [
    "covid_unique = covid_data['state'].unique()\n",
    "traffic_unique = traffic_data['state'].unique()\n"
   ]
  },
  {
   "cell_type": "code",
   "execution_count": 75,
   "metadata": {},
   "outputs": [],
   "source": [
    "#Discovers the states that are included in the Covid dataset but not the traffic dataset\n",
    "contains = False\n",
    "difference = []\n",
    "for covid_state in covid_unique:\n",
    "    for traffic_state in traffic_unique:\n",
    "        if covid_state == traffic_state:\n",
    "            contains = True\n",
    "    if(contains == False):\n",
    "        difference.append(covid_state)\n",
    "    contains = False\n",
    "\n"
   ]
  },
  {
   "cell_type": "code",
   "execution_count": 76,
   "metadata": {},
   "outputs": [],
   "source": [
    "# Convert date column to datetime object\n",
    "covid_data['date'] = pd.to_datetime(covid_data['date'], format='%Y%m%d')\n",
    "traffic_data['date'] = pd.to_datetime(traffic_data['Start_Time'], format='%Y-%m-%d %H:%M:%S').dt.date\n",
    "covid_all_data['date'] = pd.to_datetime(covid_all_data['date'], format='%Y%m%d')\n",
    "\n",
    "# Remove Start_Time column from traffic_data\n",
    "traffic_data = traffic_data[['date', 'state']]"
   ]
  },
  {
   "cell_type": "code",
   "execution_count": 77,
   "metadata": {},
   "outputs": [],
   "source": [
    "import datetime\n",
    "def plot_covid_state(state):\n",
    "\n",
    "    # Extract the covid data for the given state\n",
    "    state_covid_data = covid_data.loc[covid_data['state'] == state]\n",
    "\n",
    "    # Extract the traffic data for the given state\n",
    "    state_traffic_data = traffic_data.loc[traffic_data['state'] == state]\n",
    "    \n",
    "    # Merge rows with same date and add a counter column\n",
    "    # TODO: Make sure this is done correctly\n",
    "    state_traffic_data['count'] = state_traffic_data.groupby(['date'])['date'].transform('size')\n",
    "    state_traffic_data.drop_duplicates(keep='first', inplace=True)\n",
    "    state_traffic_data = state_traffic_data.sort_values(by='date')\n",
    "\n",
    "    # Remove rows before and after the start and end date\n",
    "    start_date = pd.to_datetime('2020-01-01', format='%Y-%m-%d', errors='ignore')\n",
    "    end_date = pd.to_datetime('2021-01-01', format='%Y-%m-%d', errors='ignore')\n",
    "    mask = (state_traffic_data['date'] > start_date) & (state_traffic_data['date'] <= end_date)\n",
    "    state_traffic_data = state_traffic_data.loc[mask]\n",
    "\n",
    "    fig, ax1 = plt.subplots()\n",
    "\n",
    "    # Plot covid cases\n",
    "    dates_covid = state_covid_data['date']\n",
    "    positives = state_covid_data['positive']\n",
    "\n",
    "    color = 'tab:red'\n",
    "    ax1.set_xlabel('Time')\n",
    "    ax1.set_ylabel('Covid Positives')\n",
    "    ax1.plot(dates_covid, positives, color=color)\n",
    "    ax1.tick_params(axis='y', labelcolor=color)\n",
    "\n",
    "    ax2 = ax1.twinx() # Instantiate a second axes that shares the same x-axis\n",
    "\n",
    "    # Plot traffic accidents\n",
    "    dates_traffic = state_traffic_data['date']\n",
    "    accidents = state_traffic_data['count']\n",
    "\n",
    "    color = 'tab:blue'\n",
    "    ax2.set_ylabel('Traffic Accidents')\n",
    "    ax2.plot(dates_traffic, accidents, color=color)\n",
    "    ax2.tick_params(axis='y', labelcolor=color)\n",
    "\n",
    "    # Show figure\n",
    "    plt.title(state)\n",
    "    fig.tight_layout()\n",
    "    plt.show()\n",
    "\n",
    "#plot_covid_state('California')"
   ]
  },
  {
   "cell_type": "code",
   "execution_count": 84,
   "metadata": {},
   "outputs": [
    {
     "output_type": "error",
     "ename": "NameError",
     "evalue": "name 'all_covid_data' is not defined",
     "traceback": [
      "\u001b[0;31m---------------------------------------------------------------------------\u001b[0m",
      "\u001b[0;31mNameError\u001b[0m                                 Traceback (most recent call last)",
      "\u001b[0;32m<ipython-input-84-6d6ddf62e6ad>\u001b[0m in \u001b[0;36m<module>\u001b[0;34m\u001b[0m\n\u001b[1;32m     45\u001b[0m     \u001b[0mplt\u001b[0m\u001b[0;34m.\u001b[0m\u001b[0mshow\u001b[0m\u001b[0;34m(\u001b[0m\u001b[0;34m)\u001b[0m\u001b[0;34m\u001b[0m\u001b[0;34m\u001b[0m\u001b[0m\n\u001b[1;32m     46\u001b[0m \u001b[0;34m\u001b[0m\u001b[0m\n\u001b[0;32m---> 47\u001b[0;31m \u001b[0mplot_covid_country\u001b[0m\u001b[0;34m(\u001b[0m\u001b[0;34m)\u001b[0m\u001b[0;34m\u001b[0m\u001b[0;34m\u001b[0m\u001b[0m\n\u001b[0m\u001b[1;32m     48\u001b[0m \u001b[0;34m\u001b[0m\u001b[0m\n",
      "\u001b[0;32m<ipython-input-84-6d6ddf62e6ad>\u001b[0m in \u001b[0;36mplot_covid_country\u001b[0;34m()\u001b[0m\n\u001b[1;32m     21\u001b[0m \u001b[0;34m\u001b[0m\u001b[0m\n\u001b[1;32m     22\u001b[0m     \u001b[0;31m# Plot covid cases\u001b[0m\u001b[0;34m\u001b[0m\u001b[0;34m\u001b[0m\u001b[0;34m\u001b[0m\u001b[0m\n\u001b[0;32m---> 23\u001b[0;31m     \u001b[0mdates_covid\u001b[0m \u001b[0;34m=\u001b[0m \u001b[0mall_covid_data\u001b[0m\u001b[0;34m[\u001b[0m\u001b[0;34m'date'\u001b[0m\u001b[0;34m]\u001b[0m\u001b[0;34m\u001b[0m\u001b[0;34m\u001b[0m\u001b[0m\n\u001b[0m\u001b[1;32m     24\u001b[0m     \u001b[0mpositives\u001b[0m \u001b[0;34m=\u001b[0m \u001b[0mall_covid_data\u001b[0m\u001b[0;34m[\u001b[0m\u001b[0;34m'positive'\u001b[0m\u001b[0;34m]\u001b[0m\u001b[0;34m\u001b[0m\u001b[0;34m\u001b[0m\u001b[0m\n\u001b[1;32m     25\u001b[0m \u001b[0;34m\u001b[0m\u001b[0m\n",
      "\u001b[0;31mNameError\u001b[0m: name 'all_covid_data' is not defined"
     ]
    }
   ],
   "source": [
    "def plot_covid_country():\n",
    "\n",
    "    covid_all = covid_all_data\n",
    "\n",
    "    all_traffic_data = traffic_data.copy()\n",
    "    all_traffic_data = all_traffic_data[['date']]\n",
    "\n",
    "    # Merge rows with the same date and add a counter column\n",
    "    all_traffic_data['count'] = all_traffic_data.groupby(['date'])['date'].transform('size')\n",
    "    all_traffic_data.drop_duplicates(keep='first', inplace=True)\n",
    "    all_traffic_data = all_traffic_data.sort_values(by='date')\n",
    "\n",
    "\n",
    "    # Remove rows before and after the start and end date\n",
    "    start_date = pd.to_datetime('2020-01-01', format='%Y-%m-%d', errors='ignore')\n",
    "    end_date = pd.to_datetime('2021-01-01', format='%Y-%m-%d', errors='ignore')\n",
    "    mask = (all_traffic_data['date'] > start_date) & (all_traffic_data['date'] <= end_date)\n",
    "    all_traffic_data = all_traffic_data.loc[mask]\n",
    "\n",
    "    fig, ax1 = plt.subplots()\n",
    "\n",
    "    # Plot covid cases\n",
    "    dates_covid = covid_all['date']\n",
    "    positives = covid_all['positive']\n",
    "\n",
    "    color = 'tab:red'\n",
    "    ax1.set_xlabel('Time')\n",
    "    ax1.set_ylabel('Covid Positives')\n",
    "    ax1.plot(dates_covid, positives, color=color)\n",
    "    ax1.tick_params(axis='y', labelcolor=color)\n",
    "\n",
    "    ax2 = ax1.twinx() # Instantiate a second axes that shares the same x-axis\n",
    "\n",
    "    # Plot traffic accidents\n",
    "    dates_traffic = all_traffic_data['date']\n",
    "    accidents = all_traffic_data['count']\n",
    "\n",
    "    color = 'tab:blue'\n",
    "    ax2.set_ylabel('Traffic Accidents')\n",
    "    ax2.plot(dates_traffic, accidents, color=color)\n",
    "    ax2.tick_params(axis='y', labelcolor=color)\n",
    "\n",
    "    # Show figure\n",
    "    fig.tight_layout()\n",
    "    plt.show()\n",
    "\n",
    "plot_covid_country()    \n",
    "\n"
   ]
  },
  {
   "cell_type": "code",
   "execution_count": null,
   "metadata": {},
   "outputs": [],
   "source": []
  }
 ]
}